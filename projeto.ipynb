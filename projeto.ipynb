{
 "cells": [
  {
   "cell_type": "code",
   "execution_count": 7,
   "metadata": {},
   "outputs": [],
   "source": [
    "# importando libs necessária para o projeto\n",
    "import json\n",
    "from functools import reduce\n",
    "import csv\n",
    "from funcoes import valida_opcoes, obter_opcoes"
   ]
  },
  {
   "cell_type": "code",
   "execution_count": 8,
   "metadata": {},
   "outputs": [],
   "source": [
    "# definindo função para leitura de arquivo .json (precisa carregar o .json aqui no colab)\n",
    "def open_json_file(filepath: str = 'petshop.json') -> list:\n",
    "    try:\n",
    "        with open(filepath, \"r\") as f:\n",
    "            # lendo e desserializando o conteúdo do arquivo\n",
    "            return json.load(f)\n",
    "    # caso não encontre o arquivo, para o programa\n",
    "    except FileNotFoundError as e:\n",
    "        raise e"
   ]
  },
  {
   "cell_type": "code",
   "execution_count": 12,
   "metadata": {},
   "outputs": [],
   "source": [
    "# definindo função para salvar dados\n",
    "def save_json_file(data: list, filepath: str = 'petshop.json') -> bool:\n",
    "    try:\n",
    "        with open(filepath, 'w') as arquivo:\n",
    "            arquivo.write(json.dumps(data))\n",
    "            return True\n",
    "    except Exception:\n",
    "        return False"
   ]
  },
  {
   "cell_type": "code",
   "execution_count": 9,
   "metadata": {},
   "outputs": [
    {
     "name": "stdout",
     "output_type": "stream",
     "text": [
      "[{'name': 'Buddy', 'age': 2, 'species': 'Dog', 'breed': 'Golden Retriever', 'weight': 25, 'fur_color': 'Golden'}, {'name': 'Whiskers', 'age': 1, 'species': 'Cat', 'breed': 'Siamese', 'weight': 8, 'fur_color': 'Cream'}, {'name': 'Rocky', 'age': 3, 'species': 'Dog', 'breed': 'German Shepherd', 'weight': 35, 'fur_color': 'Black/Tan'}, {'name': 'Fluffy', 'age': 4, 'species': 'Cat', 'breed': 'Persian', 'weight': 10, 'fur_color': 'White'}, {'name': 'Charlie', 'age': 1, 'species': 'Dog', 'breed': 'Beagle', 'weight': 18, 'fur_color': 'Tri-color'}, {'name': 'Mittens', 'age': 2, 'species': 'Cat', 'breed': 'Maine Coon', 'weight': 15, 'fur_color': 'Tabby'}, {'name': 'Max', 'age': 5, 'species': 'Dog', 'breed': 'Labrador Retriever', 'weight': 30, 'fur_color': 'Chocolate'}, {'name': 'Oreo', 'age': 1, 'species': 'Cat', 'breed': 'Domestic Shorthair', 'weight': 7, 'fur_color': 'Black/White'}, {'name': 'Coco', 'age': 3, 'species': 'Dog', 'breed': 'Poodle', 'weight': 15, 'fur_color': 'Apricot'}, {'name': 'Smokey', 'age': 2, 'species': 'Cat', 'breed': 'Ragdoll', 'weight': 12, 'fur_color': 'Blue Bicolor'}, {'name': 'Bailey', 'age': 4, 'species': 'Dog', 'breed': 'Boxer', 'weight': 22, 'fur_color': 'Fawn'}, {'name': 'Shadow', 'age': 1, 'species': 'Cat', 'breed': 'Siberian', 'weight': 14, 'fur_color': 'Gray'}, {'name': 'Daisy', 'age': 3, 'species': 'Dog', 'breed': 'Dachshund', 'weight': 12, 'fur_color': 'Red'}, {'name': 'Milo', 'age': 2, 'species': 'Cat', 'breed': 'Bengal', 'weight': 18, 'fur_color': 'Spotted Rosetted'}, {'name': 'Chloe', 'age': 5, 'species': 'Dog', 'breed': 'Shih Tzu', 'weight': 10, 'fur_color': 'White/Gold'}, {'name': 'Leo', 'age': 1, 'species': 'Cat', 'breed': 'Scottish Fold', 'weight': 9, 'fur_color': 'Blue Tabby'}, {'name': 'Riley', 'age': 3, 'species': 'Dog', 'breed': 'Husky', 'weight': 28, 'fur_color': 'Gray/White'}, {'name': 'Luna', 'age': 2, 'species': 'Cat', 'breed': 'Sphynx', 'weight': 6, 'fur_color': 'Pink'}, {'name': 'Teddy', 'age': 4, 'species': 'Dog', 'breed': 'Cavalier King Charles Spaniel', 'weight': 13, 'fur_color': 'Blenheim'}, {'name': 'Oliver', 'age': 1, 'species': 'Cat', 'breed': 'British Shorthair', 'weight': 11, 'fur_color': 'Blue'}]\n"
     ]
    }
   ],
   "source": [
    "# chamando as funções\n",
    "data = open_json_file('petshop.json')\n",
    "print(data)"
   ]
  },
  {
   "cell_type": "code",
   "execution_count": null,
   "metadata": {},
   "outputs": [],
   "source": [
    "# alteração de registro \n",
    "data[0]['name'] = \"George\""
   ]
  },
  {
   "cell_type": "code",
   "execution_count": null,
   "metadata": {},
   "outputs": [],
   "source": [
    "print(data)"
   ]
  },
  {
   "cell_type": "code",
   "execution_count": null,
   "metadata": {},
   "outputs": [],
   "source": [
    "# chamando a função para salvar as alterações no .json\n",
    "save_json_file(data)"
   ]
  },
  {
   "cell_type": "code",
   "execution_count": 14,
   "metadata": {},
   "outputs": [],
   "source": [
    "# criando função com filter\n",
    "def filter_data(data: dict, filter_function) -> list:\n",
    "    return list(filter(filter_function, data))"
   ]
  },
  {
   "cell_type": "code",
   "execution_count": 15,
   "metadata": {},
   "outputs": [
    {
     "name": "stdout",
     "output_type": "stream",
     "text": [
      "[{'name': 'Buddy', 'age': 2, 'species': 'Dog', 'breed': 'Golden Retriever', 'weight': 25, 'fur_color': 'Golden'}, {'name': 'Rocky', 'age': 3, 'species': 'Dog', 'breed': 'German Shepherd', 'weight': 35, 'fur_color': 'Black/Tan'}, {'name': 'Charlie', 'age': 1, 'species': 'Dog', 'breed': 'Beagle', 'weight': 18, 'fur_color': 'Tri-color'}, {'name': 'Max', 'age': 5, 'species': 'Dog', 'breed': 'Labrador Retriever', 'weight': 30, 'fur_color': 'Chocolate'}, {'name': 'Coco', 'age': 3, 'species': 'Dog', 'breed': 'Poodle', 'weight': 15, 'fur_color': 'Apricot'}, {'name': 'Bailey', 'age': 4, 'species': 'Dog', 'breed': 'Boxer', 'weight': 22, 'fur_color': 'Fawn'}, {'name': 'Daisy', 'age': 3, 'species': 'Dog', 'breed': 'Dachshund', 'weight': 12, 'fur_color': 'Red'}, {'name': 'Chloe', 'age': 5, 'species': 'Dog', 'breed': 'Shih Tzu', 'weight': 10, 'fur_color': 'White/Gold'}, {'name': 'Riley', 'age': 3, 'species': 'Dog', 'breed': 'Husky', 'weight': 28, 'fur_color': 'Gray/White'}, {'name': 'Teddy', 'age': 4, 'species': 'Dog', 'breed': 'Cavalier King Charles Spaniel', 'weight': 13, 'fur_color': 'Blenheim'}]\n"
     ]
    }
   ],
   "source": [
    "# função para passar dentro do filter - filtrando apenas os cachorros\n",
    "def filter_dogs(data: dict):\n",
    "    return data['species'] == 'Dog'\n",
    "\n",
    "data_dogs = filter_data(data, filter_dogs)\n",
    "print(data_dogs)"
   ]
  },
  {
   "cell_type": "code",
   "execution_count": 16,
   "metadata": {},
   "outputs": [],
   "source": [
    "# função para calcular a soma de idades dos animais\n",
    "def sum_age(data: dict) -> float:\n",
    "    return reduce(lambda x, pet: x + pet['age'], data, 0)"
   ]
  },
  {
   "cell_type": "code",
   "execution_count": 17,
   "metadata": {},
   "outputs": [
    {
     "name": "stdout",
     "output_type": "stream",
     "text": [
      "2.5\n"
     ]
    }
   ],
   "source": [
    "# função para calcular a média de idade dos animais\n",
    "def average_age(data: dict, reduce_function) -> float:\n",
    "    return (reduce_function / len(data))\n",
    "\n",
    "avarage_animal_age = average_age(data, sum_age(data))\n",
    "print(avarage_animal_age)"
   ]
  },
  {
   "cell_type": "code",
   "execution_count": 23,
   "metadata": {},
   "outputs": [],
   "source": [
    "# Função para processar cada pet\n",
    "def process_pet(pet):\n",
    "    # Adicionar 5kg ao peso do pet\n",
    "    pet['weight_plus'] = pet['weight'] + 5\n",
    "    return pet"
   ]
  },
  {
   "cell_type": "code",
   "execution_count": 24,
   "metadata": {},
   "outputs": [
    {
     "name": "stdout",
     "output_type": "stream",
     "text": [
      "[{'name': 'Buddy', 'age': 2, 'species': 'Dog', 'breed': 'Golden Retriever', 'weight': 25, 'fur_color': 'Golden', 'weight_plus': 30}, {'name': 'Whiskers', 'age': 1, 'species': 'Cat', 'breed': 'Siamese', 'weight': 8, 'fur_color': 'Cream', 'weight_plus': 13}, {'name': 'Rocky', 'age': 3, 'species': 'Dog', 'breed': 'German Shepherd', 'weight': 35, 'fur_color': 'Black/Tan', 'weight_plus': 40}, {'name': 'Fluffy', 'age': 4, 'species': 'Cat', 'breed': 'Persian', 'weight': 10, 'fur_color': 'White', 'weight_plus': 15}, {'name': 'Charlie', 'age': 1, 'species': 'Dog', 'breed': 'Beagle', 'weight': 18, 'fur_color': 'Tri-color', 'weight_plus': 23}, {'name': 'Mittens', 'age': 2, 'species': 'Cat', 'breed': 'Maine Coon', 'weight': 15, 'fur_color': 'Tabby', 'weight_plus': 20}, {'name': 'Max', 'age': 5, 'species': 'Dog', 'breed': 'Labrador Retriever', 'weight': 30, 'fur_color': 'Chocolate', 'weight_plus': 35}, {'name': 'Oreo', 'age': 1, 'species': 'Cat', 'breed': 'Domestic Shorthair', 'weight': 7, 'fur_color': 'Black/White', 'weight_plus': 12}, {'name': 'Coco', 'age': 3, 'species': 'Dog', 'breed': 'Poodle', 'weight': 15, 'fur_color': 'Apricot', 'weight_plus': 20}, {'name': 'Smokey', 'age': 2, 'species': 'Cat', 'breed': 'Ragdoll', 'weight': 12, 'fur_color': 'Blue Bicolor', 'weight_plus': 17}, {'name': 'Bailey', 'age': 4, 'species': 'Dog', 'breed': 'Boxer', 'weight': 22, 'fur_color': 'Fawn', 'weight_plus': 27}, {'name': 'Shadow', 'age': 1, 'species': 'Cat', 'breed': 'Siberian', 'weight': 14, 'fur_color': 'Gray', 'weight_plus': 19}, {'name': 'Daisy', 'age': 3, 'species': 'Dog', 'breed': 'Dachshund', 'weight': 12, 'fur_color': 'Red', 'weight_plus': 17}, {'name': 'Milo', 'age': 2, 'species': 'Cat', 'breed': 'Bengal', 'weight': 18, 'fur_color': 'Spotted Rosetted', 'weight_plus': 23}, {'name': 'Chloe', 'age': 5, 'species': 'Dog', 'breed': 'Shih Tzu', 'weight': 10, 'fur_color': 'White/Gold', 'weight_plus': 15}, {'name': 'Leo', 'age': 1, 'species': 'Cat', 'breed': 'Scottish Fold', 'weight': 9, 'fur_color': 'Blue Tabby', 'weight_plus': 14}, {'name': 'Riley', 'age': 3, 'species': 'Dog', 'breed': 'Husky', 'weight': 28, 'fur_color': 'Gray/White', 'weight_plus': 33}, {'name': 'Luna', 'age': 2, 'species': 'Cat', 'breed': 'Sphynx', 'weight': 6, 'fur_color': 'Pink', 'weight_plus': 11}, {'name': 'Teddy', 'age': 4, 'species': 'Dog', 'breed': 'Cavalier King Charles Spaniel', 'weight': 13, 'fur_color': 'Blenheim', 'weight_plus': 18}, {'name': 'Oliver', 'age': 1, 'species': 'Cat', 'breed': 'British Shorthair', 'weight': 11, 'fur_color': 'Blue', 'weight_plus': 16}]\n"
     ]
    }
   ],
   "source": [
    "# função para mapping\n",
    "def sum_five_kg(data: dict, map_function):\n",
    "    return list(map(map_function, data))\n",
    "\n",
    "pets_five_kg = sum_five_kg(data, process_pet)\n",
    "print(pets_five_kg)"
   ]
  },
  {
   "cell_type": "code",
   "execution_count": 10,
   "metadata": {},
   "outputs": [],
   "source": [
    "# função para retornar o registro maximo de um atributo \n",
    "def max_attribute_value(data: dict, attribute: str) -> list:\n",
    "    max_value = max(data, key=lambda x: x[attribute])[attribute]\n",
    "    return [(pet['name'], pet[attribute]) for pet in data if pet[attribute] == max_value]"
   ]
  },
  {
   "cell_type": "code",
   "execution_count": 11,
   "metadata": {},
   "outputs": [],
   "source": [
    "# função para retornar o registro minimo de um atributo \n",
    "def min_attribute_value(data: dict, attribute: str) -> list:\n",
    "    min_value = min(data, key=lambda x: x[attribute])[attribute]\n",
    "    return [(pet['name'], pet[attribute]) for pet in data if pet[attribute] == min_value]"
   ]
  },
  {
   "cell_type": "code",
   "execution_count": 12,
   "metadata": {},
   "outputs": [],
   "source": [
    "opc_att = {\n",
    "    'AGE': \"Pet's age\",\n",
    "    'WEIGHT': \"Pet's weight\"\n",
    "}"
   ]
  },
  {
   "cell_type": "code",
   "execution_count": 13,
   "metadata": {},
   "outputs": [],
   "source": [
    "opc_max_min = {\n",
    "    'MAX': 'Máximo', #salvando dados \n",
    "    'MIN': 'Mínimo'\n",
    "}"
   ]
  },
  {
   "cell_type": "code",
   "execution_count": 18,
   "metadata": {},
   "outputs": [],
   "source": [
    "def max_min(opc_max_min: dict = opc_max_min, opc_att: dict = opc_att, data: dict = data) -> list:\n",
    "    option = obter_opcoes(opc_max_min, 'Choose an input: ')\n",
    "    att = obter_opcoes(opc_att, 'Choose an input: ').lower()\n",
    "    if option == 'MAX':\n",
    "        return max_attribute_value(data, att)\n",
    "    elif option == 'MIN':\n",
    "        return min_attribute_value(data, att)\n",
    "    else:\n",
    "        return []"
   ]
  },
  {
   "cell_type": "code",
   "execution_count": 19,
   "metadata": {},
   "outputs": [
    {
     "data": {
      "text/plain": [
       "[('Max', 5), ('Chloe', 5)]"
      ]
     },
     "execution_count": 19,
     "metadata": {},
     "output_type": "execute_result"
    }
   ],
   "source": [
    "max_min()"
   ]
  },
  {
   "cell_type": "code",
   "execution_count": null,
   "metadata": {},
   "outputs": [],
   "source": [
    "# função para salvar csv\n",
    "def save_csv(data: list, filepath: str = 'petshop.csv'):\n",
    "  try:\n",
    "    with open(filepath, 'w', newline='') as f:\n",
    "        writer = csv.writer(f)\n",
    "        writer.writerows(data)\n",
    "        return True\n",
    "  except Exception:\n",
    "    return False"
   ]
  }
 ],
 "metadata": {
  "kernelspec": {
   "display_name": "Python 3",
   "language": "python",
   "name": "python3"
  },
  "language_info": {
   "codemirror_mode": {
    "name": "ipython",
    "version": 3
   },
   "file_extension": ".py",
   "mimetype": "text/x-python",
   "name": "python",
   "nbconvert_exporter": "python",
   "pygments_lexer": "ipython3",
   "version": "3.8.0"
  }
 },
 "nbformat": 4,
 "nbformat_minor": 2
}

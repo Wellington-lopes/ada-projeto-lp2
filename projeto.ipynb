{
 "cells": [
  {
   "cell_type": "code",
   "execution_count": 2,
   "metadata": {},
   "outputs": [],
   "source": [
    "# importando libs necessária para o projeto\n",
    "import json\n",
    "from functools import reduce\n",
    "import csv"
   ]
  },
  {
   "cell_type": "code",
   "execution_count": 3,
   "metadata": {},
   "outputs": [],
   "source": [
    "# definindo função para leitura de arquivo .json (precisa carregar o .json aqui no colab)\n",
    "def open_json_file(filepath: str = 'petshop.json') -> list:\n",
    "    try:\n",
    "        with open(filepath, \"r\") as f:\n",
    "            # lendo e desserializando o conteúdo do arquivo\n",
    "            return json.load(f)\n",
    "    # caso não encontre o arquivo, para o programa\n",
    "    except FileNotFoundError as e:\n",
    "        raise e"
   ]
  },
  {
   "cell_type": "code",
   "execution_count": 4,
   "metadata": {},
   "outputs": [
    {
     "name": "stdout",
     "output_type": "stream",
     "text": [
      "[{'name': 'Buddy', 'age': 2, 'species': 'Dog', 'breed': 'Golden Retriever', 'weight': 25, 'fur_color': 'Golden'}, {'name': 'Whiskers', 'age': 1, 'species': 'Cat', 'breed': 'Siamese', 'weight': 8, 'fur_color': 'Cream'}, {'name': 'Rocky', 'age': 3, 'species': 'Dog', 'breed': 'German Shepherd', 'weight': 35, 'fur_color': 'Black/Tan'}, {'name': 'Fluffy', 'age': 4, 'species': 'Cat', 'breed': 'Persian', 'weight': 10, 'fur_color': 'White'}, {'name': 'Charlie', 'age': 1, 'species': 'Dog', 'breed': 'Beagle', 'weight': 18, 'fur_color': 'Tri-color'}, {'name': 'Mittens', 'age': 2, 'species': 'Cat', 'breed': 'Maine Coon', 'weight': 15, 'fur_color': 'Tabby'}, {'name': 'Max', 'age': 5, 'species': 'Dog', 'breed': 'Labrador Retriever', 'weight': 30, 'fur_color': 'Chocolate'}, {'name': 'Oreo', 'age': 1, 'species': 'Cat', 'breed': 'Domestic Shorthair', 'weight': 7, 'fur_color': 'Black/White'}, {'name': 'Coco', 'age': 3, 'species': 'Dog', 'breed': 'Poodle', 'weight': 15, 'fur_color': 'Apricot'}, {'name': 'Smokey', 'age': 2, 'species': 'Cat', 'breed': 'Ragdoll', 'weight': 12, 'fur_color': 'Blue Bicolor'}, {'name': 'Bailey', 'age': 4, 'species': 'Dog', 'breed': 'Boxer', 'weight': 22, 'fur_color': 'Fawn'}, {'name': 'Shadow', 'age': 1, 'species': 'Cat', 'breed': 'Siberian', 'weight': 14, 'fur_color': 'Gray'}, {'name': 'Daisy', 'age': 3, 'species': 'Dog', 'breed': 'Dachshund', 'weight': 12, 'fur_color': 'Red'}, {'name': 'Milo', 'age': 2, 'species': 'Cat', 'breed': 'Bengal', 'weight': 18, 'fur_color': 'Spotted Rosetted'}, {'name': 'Chloe', 'age': 5, 'species': 'Dog', 'breed': 'Shih Tzu', 'weight': 10, 'fur_color': 'White/Gold'}, {'name': 'Leo', 'age': 1, 'species': 'Cat', 'breed': 'Scottish Fold', 'weight': 9, 'fur_color': 'Blue Tabby'}, {'name': 'Riley', 'age': 3, 'species': 'Dog', 'breed': 'Husky', 'weight': 28, 'fur_color': 'Gray/White'}, {'name': 'Luna', 'age': 2, 'species': 'Cat', 'breed': 'Sphynx', 'weight': 6, 'fur_color': 'Pink'}, {'name': 'Teddy', 'age': 4, 'species': 'Dog', 'breed': 'Cavalier King Charles Spaniel', 'weight': 13, 'fur_color': 'Blenheim'}, {'name': 'Oliver', 'age': 1, 'species': 'Cat', 'breed': 'British Shorthair', 'weight': 11, 'fur_color': 'Blue'}, {'name': 'Felicia', 'age': 4, 'species': 'Cat', 'breed': 'Siamese', 'weight': 8, 'fur_color': 'White/Tan'}, {'name': 'Madalena', 'age': 5, 'species': 'Dog', 'breed': 'Pug', 'weight': 8.0, 'fur_color': 'Black'}]\n"
     ]
    }
   ],
   "source": [
    "# chamando as funções\n",
    "data = open_json_file('petshop.json')\n",
    "print(data)"
   ]
  },
  {
   "cell_type": "code",
   "execution_count": 4,
   "metadata": {},
   "outputs": [],
   "source": [
    "def save_json_file(data: list, filepath: str = 'petshop.json') -> bool:\n",
    "    try:\n",
    "        with open(filepath, 'w') as f:\n",
    "            f.write(json.dumps(data))\n",
    "            return True\n",
    "    except Exception:\n",
    "        return False"
   ]
  },
  {
   "cell_type": "code",
   "execution_count": 4,
   "metadata": {},
   "outputs": [],
   "source": [
    "# criando função com filter\n",
    "def filter_data(data: list[dict]):\n",
    "    return list(filter(filter_attribute, data))\n",
    "\n",
    "\n",
    "def filter_attribute(data: dict):\n",
    "    option = input('Choose what you want to filter: N - Name, A - Age, S - Species, B - Breed, W - Weight, F - Fur Color: ').upper()\n",
    "    filter_value = input('Enter your filter: ').capitalize()\n",
    "\n",
    "    if option == 'N':\n",
    "        return data.get('name') == filter_value\n",
    "    elif option == 'A':\n",
    "        return data.get('age') == int(filter_value)\n",
    "    elif option == 'S':\n",
    "        return data.get('species') == filter_value\n",
    "    elif option == 'B':\n",
    "        return data.get('breed') == filter_value\n",
    "    elif option == 'W':\n",
    "        return data.get('weight') == float(filter_value)\n",
    "    elif option == 'F':\n",
    "        return data.get('fur_color') == filter_value\n",
    "    else:\n",
    "        return False\n"
   ]
  },
  {
   "cell_type": "code",
   "execution_count": 9,
   "metadata": {},
   "outputs": [],
   "source": [
    "def filter_attributes(data):\n",
    "    option = input('Choose what attribute you want to filter: name, age, species, breed, weight, fur_color: ').lower()\n",
    "    filter_value = input(f'Enter the value for {option}: ').strip().capitalize()  # Capturar o valor a ser filtrado\n",
    "    \n",
    "    if option in ('name', 'species', 'breed', 'fur_color'):\n",
    "        filter_value = filter_value.capitalize()  # Garantir que as strings sejam capitalizadas para comparação\n",
    "        return list(filter(lambda pet: str(pet.get(option)).strip().capitalize() == filter_value, data))\n",
    "    elif option == 'age':\n",
    "        filter_value = int(filter_value)  # Converter a entrada para inteiro\n",
    "        return list(filter(lambda pet: int(pet.get(option)) == filter_value, data))\n",
    "    elif option == 'weight':\n",
    "        filter_value = float(filter_value)  # Converter a entrada para float\n",
    "        return list(filter(lambda pet: float(pet.get(option)) == filter_value, data))\n",
    "    else:\n",
    "        return []"
   ]
  },
  {
   "cell_type": "code",
   "execution_count": 10,
   "metadata": {},
   "outputs": [
    {
     "name": "stdout",
     "output_type": "stream",
     "text": [
      "[{'name': 'Max', 'age': 5, 'species': 'Dog', 'breed': 'Labrador Retriever', 'weight': 30, 'fur_color': 'Chocolate'}, {'name': 'Chloe', 'age': 5, 'species': 'Dog', 'breed': 'Shih Tzu', 'weight': 10, 'fur_color': 'White/Gold'}, {'name': 'Madalena', 'age': 5, 'species': 'Dog', 'breed': 'Pug', 'weight': 8.0, 'fur_color': 'Black'}]\n"
     ]
    }
   ],
   "source": [
    "# Chamada da função para filtrar os atributos\n",
    "filtered_data = filter_attributes(data)\n",
    "\n",
    "# Exibir os resultados filtrados\n",
    "print(filtered_data)"
   ]
  },
  {
   "cell_type": "code",
   "execution_count": 5,
   "metadata": {},
   "outputs": [],
   "source": [
    "print(filter_data(data))"
   ]
  },
  {
   "cell_type": "code",
   "execution_count": null,
   "metadata": {},
   "outputs": [],
   "source": [
    "# chamando a função para salvar as alterações no .json\n",
    "save_json_file(data)"
   ]
  },
  {
   "cell_type": "code",
   "execution_count": 6,
   "metadata": {},
   "outputs": [],
   "source": [
    "# criando função com filter\n",
    "def filter_data(data: dict, filter_function) -> list:\n",
    "    return list(filter(filter_function, data))"
   ]
  },
  {
   "cell_type": "code",
   "execution_count": 7,
   "metadata": {},
   "outputs": [
    {
     "name": "stdout",
     "output_type": "stream",
     "text": [
      "[{'name': 'Buddy', 'age': 2, 'species': 'Dog', 'breed': 'Golden Retriever', 'weight': 25, 'fur_color': 'Golden'}, {'name': 'Rocky', 'age': 3, 'species': 'Dog', 'breed': 'German Shepherd', 'weight': 35, 'fur_color': 'Black/Tan'}, {'name': 'Charlie', 'age': 1, 'species': 'Dog', 'breed': 'Beagle', 'weight': 18, 'fur_color': 'Tri-color'}, {'name': 'Max', 'age': 5, 'species': 'Dog', 'breed': 'Labrador Retriever', 'weight': 30, 'fur_color': 'Chocolate'}, {'name': 'Coco', 'age': 3, 'species': 'Dog', 'breed': 'Poodle', 'weight': 15, 'fur_color': 'Apricot'}, {'name': 'Bailey', 'age': 4, 'species': 'Dog', 'breed': 'Boxer', 'weight': 22, 'fur_color': 'Fawn'}, {'name': 'Daisy', 'age': 3, 'species': 'Dog', 'breed': 'Dachshund', 'weight': 12, 'fur_color': 'Red'}, {'name': 'Chloe', 'age': 5, 'species': 'Dog', 'breed': 'Shih Tzu', 'weight': 10, 'fur_color': 'White/Gold'}, {'name': 'Riley', 'age': 3, 'species': 'Dog', 'breed': 'Husky', 'weight': 28, 'fur_color': 'Gray/White'}, {'name': 'Teddy', 'age': 4, 'species': 'Dog', 'breed': 'Cavalier King Charles Spaniel', 'weight': 13, 'fur_color': 'Blenheim'}, {'name': 'Madalena', 'age': 5, 'species': 'Dog', 'breed': 'Pug', 'weight': 8.0, 'fur_color': 'Black'}]\n"
     ]
    }
   ],
   "source": [
    "# função para passar dentro do filter - filtrando apenas os cachorros\n",
    "def filter_dogs(data: dict):\n",
    "    attribute = 'species'\n",
    "    register = 'Dog'\n",
    "    return data[attribute] == register\n",
    "\n",
    "data_dogs = filter_data(data, filter_dogs)\n",
    "print(data_dogs)"
   ]
  },
  {
   "cell_type": "code",
   "execution_count": 12,
   "metadata": {},
   "outputs": [
    {
     "ename": "ImportError",
     "evalue": "cannot import name 'return_statistics_avarage' from partially initialized module 'funcMapRedFilter' (most likely due to a circular import) (c:\\Users\\maria\\OneDrive\\Área de Trabalho\\projetoDadosLP2\\funcMapRedFilter.py)",
     "output_type": "error",
     "traceback": [
      "\u001b[1;31m---------------------------------------------------------------------------\u001b[0m",
      "\u001b[1;31mImportError\u001b[0m                               Traceback (most recent call last)",
      "\u001b[1;32mc:\\Users\\maria\\OneDrive\\Área de Trabalho\\projetoDadosLP2\\projeto.ipynb Cell 9\u001b[0m line \u001b[0;36m1\n\u001b[1;32m----> <a href='vscode-notebook-cell:/c%3A/Users/maria/OneDrive/%C3%81rea%20de%20Trabalho/projetoDadosLP2/projeto.ipynb#X32sZmlsZQ%3D%3D?line=0'>1</a>\u001b[0m \u001b[39mfrom\u001b[39;00m \u001b[39mfuncMapRedFilter\u001b[39;00m \u001b[39mimport\u001b[39;00m filter_data\n\u001b[0;32m      <a href='vscode-notebook-cell:/c%3A/Users/maria/OneDrive/%C3%81rea%20de%20Trabalho/projetoDadosLP2/projeto.ipynb#X32sZmlsZQ%3D%3D?line=2'>3</a>\u001b[0m filter_data(data)\n",
      "File \u001b[1;32mc:\\Users\\maria\\OneDrive\\Área de Trabalho\\projetoDadosLP2\\funcMapRedFilter.py:4\u001b[0m\n\u001b[0;32m      2\u001b[0m \u001b[39mfrom\u001b[39;00m \u001b[39mfuncoesProfessor\u001b[39;00m \u001b[39mimport\u001b[39;00m obter_opcoes\n\u001b[0;32m      3\u001b[0m \u001b[39mfrom\u001b[39;00m \u001b[39mfuncCRUD\u001b[39;00m \u001b[39mimport\u001b[39;00m input_attribute\n\u001b[1;32m----> 4\u001b[0m \u001b[39mfrom\u001b[39;00m \u001b[39mfuncFile\u001b[39;00m \u001b[39mimport\u001b[39;00m save_json_file\n\u001b[0;32m      6\u001b[0m opc_pet \u001b[39m=\u001b[39m {\n\u001b[0;32m      7\u001b[0m     \u001b[39m'\u001b[39m\u001b[39mNAME\u001b[39m\u001b[39m'\u001b[39m: \u001b[39m\"\u001b[39m\u001b[39mPet\u001b[39m\u001b[39m'\u001b[39m\u001b[39ms name\u001b[39m\u001b[39m\"\u001b[39m,\n\u001b[0;32m      8\u001b[0m     \u001b[39m'\u001b[39m\u001b[39mAGE\u001b[39m\u001b[39m'\u001b[39m: \u001b[39m\"\u001b[39m\u001b[39mPet\u001b[39m\u001b[39m'\u001b[39m\u001b[39ms age\u001b[39m\u001b[39m\"\u001b[39m ,\n\u001b[1;32m   (...)\u001b[0m\n\u001b[0;32m     12\u001b[0m     \u001b[39m'\u001b[39m\u001b[39mFUR_COLOR\u001b[39m\u001b[39m'\u001b[39m: \u001b[39m\"\u001b[39m\u001b[39mPet\u001b[39m\u001b[39m'\u001b[39m\u001b[39ms fur color\u001b[39m\u001b[39m\"\u001b[39m,\n\u001b[0;32m     13\u001b[0m }\n\u001b[0;32m     15\u001b[0m \u001b[39m# função para passar dentro do filter \u001b[39;00m\n",
      "File \u001b[1;32mc:\\Users\\maria\\OneDrive\\Área de Trabalho\\projetoDadosLP2\\funcFile.py:5\u001b[0m\n\u001b[0;32m      3\u001b[0m \u001b[39mfrom\u001b[39;00m \u001b[39mfuncMaxMin\u001b[39;00m \u001b[39mimport\u001b[39;00m max_min, input_max_min\n\u001b[0;32m      4\u001b[0m \u001b[39mfrom\u001b[39;00m \u001b[39mfuncCRUD\u001b[39;00m \u001b[39mimport\u001b[39;00m input_attribute\n\u001b[1;32m----> 5\u001b[0m \u001b[39mfrom\u001b[39;00m \u001b[39mfuncMapRedFilter\u001b[39;00m \u001b[39mimport\u001b[39;00m return_statistics_avarage\n\u001b[0;32m      6\u001b[0m \u001b[39mfrom\u001b[39;00m \u001b[39mfuncoesProfessor\u001b[39;00m \u001b[39mimport\u001b[39;00m obter_opcoes\n\u001b[0;32m      7\u001b[0m \u001b[39mimport\u001b[39;00m \u001b[39mfuncFile\u001b[39;00m \u001b[39mas\u001b[39;00m \u001b[39mff\u001b[39;00m\n",
      "\u001b[1;31mImportError\u001b[0m: cannot import name 'return_statistics_avarage' from partially initialized module 'funcMapRedFilter' (most likely due to a circular import) (c:\\Users\\maria\\OneDrive\\Área de Trabalho\\projetoDadosLP2\\funcMapRedFilter.py)"
     ]
    }
   ],
   "source": [
    "from funcMapRedFilter import filter_data\n",
    "\n",
    "filter_data(data)"
   ]
  },
  {
   "cell_type": "code",
   "execution_count": 16,
   "metadata": {},
   "outputs": [],
   "source": [
    "# função para calcular a soma de idades dos animais\n",
    "def sum_age(data: dict) -> float:\n",
    "    return reduce(lambda x, pet: x + pet['age'], data, 0)"
   ]
  },
  {
   "cell_type": "code",
   "execution_count": 17,
   "metadata": {},
   "outputs": [
    {
     "name": "stdout",
     "output_type": "stream",
     "text": [
      "2.5\n"
     ]
    }
   ],
   "source": [
    "# função para calcular a média de idade dos animais\n",
    "def average_age(data: dict, reduce_function) -> float:\n",
    "    return (reduce_function / len(data))\n",
    "\n",
    "avarage_animal_age = average_age(data, sum_age(data))\n",
    "print(avarage_animal_age)"
   ]
  },
  {
   "cell_type": "code",
   "execution_count": 23,
   "metadata": {},
   "outputs": [],
   "source": [
    "# Função para processar cada pet\n",
    "def process_pet(pet):\n",
    "    # Adicionar 5kg ao peso do pet\n",
    "    pet['weight_plus'] = pet['weight'] + 5\n",
    "    return pet"
   ]
  },
  {
   "cell_type": "code",
   "execution_count": 24,
   "metadata": {},
   "outputs": [
    {
     "name": "stdout",
     "output_type": "stream",
     "text": [
      "[{'name': 'Buddy', 'age': 2, 'species': 'Dog', 'breed': 'Golden Retriever', 'weight': 25, 'fur_color': 'Golden', 'weight_plus': 30}, {'name': 'Whiskers', 'age': 1, 'species': 'Cat', 'breed': 'Siamese', 'weight': 8, 'fur_color': 'Cream', 'weight_plus': 13}, {'name': 'Rocky', 'age': 3, 'species': 'Dog', 'breed': 'German Shepherd', 'weight': 35, 'fur_color': 'Black/Tan', 'weight_plus': 40}, {'name': 'Fluffy', 'age': 4, 'species': 'Cat', 'breed': 'Persian', 'weight': 10, 'fur_color': 'White', 'weight_plus': 15}, {'name': 'Charlie', 'age': 1, 'species': 'Dog', 'breed': 'Beagle', 'weight': 18, 'fur_color': 'Tri-color', 'weight_plus': 23}, {'name': 'Mittens', 'age': 2, 'species': 'Cat', 'breed': 'Maine Coon', 'weight': 15, 'fur_color': 'Tabby', 'weight_plus': 20}, {'name': 'Max', 'age': 5, 'species': 'Dog', 'breed': 'Labrador Retriever', 'weight': 30, 'fur_color': 'Chocolate', 'weight_plus': 35}, {'name': 'Oreo', 'age': 1, 'species': 'Cat', 'breed': 'Domestic Shorthair', 'weight': 7, 'fur_color': 'Black/White', 'weight_plus': 12}, {'name': 'Coco', 'age': 3, 'species': 'Dog', 'breed': 'Poodle', 'weight': 15, 'fur_color': 'Apricot', 'weight_plus': 20}, {'name': 'Smokey', 'age': 2, 'species': 'Cat', 'breed': 'Ragdoll', 'weight': 12, 'fur_color': 'Blue Bicolor', 'weight_plus': 17}, {'name': 'Bailey', 'age': 4, 'species': 'Dog', 'breed': 'Boxer', 'weight': 22, 'fur_color': 'Fawn', 'weight_plus': 27}, {'name': 'Shadow', 'age': 1, 'species': 'Cat', 'breed': 'Siberian', 'weight': 14, 'fur_color': 'Gray', 'weight_plus': 19}, {'name': 'Daisy', 'age': 3, 'species': 'Dog', 'breed': 'Dachshund', 'weight': 12, 'fur_color': 'Red', 'weight_plus': 17}, {'name': 'Milo', 'age': 2, 'species': 'Cat', 'breed': 'Bengal', 'weight': 18, 'fur_color': 'Spotted Rosetted', 'weight_plus': 23}, {'name': 'Chloe', 'age': 5, 'species': 'Dog', 'breed': 'Shih Tzu', 'weight': 10, 'fur_color': 'White/Gold', 'weight_plus': 15}, {'name': 'Leo', 'age': 1, 'species': 'Cat', 'breed': 'Scottish Fold', 'weight': 9, 'fur_color': 'Blue Tabby', 'weight_plus': 14}, {'name': 'Riley', 'age': 3, 'species': 'Dog', 'breed': 'Husky', 'weight': 28, 'fur_color': 'Gray/White', 'weight_plus': 33}, {'name': 'Luna', 'age': 2, 'species': 'Cat', 'breed': 'Sphynx', 'weight': 6, 'fur_color': 'Pink', 'weight_plus': 11}, {'name': 'Teddy', 'age': 4, 'species': 'Dog', 'breed': 'Cavalier King Charles Spaniel', 'weight': 13, 'fur_color': 'Blenheim', 'weight_plus': 18}, {'name': 'Oliver', 'age': 1, 'species': 'Cat', 'breed': 'British Shorthair', 'weight': 11, 'fur_color': 'Blue', 'weight_plus': 16}]\n"
     ]
    }
   ],
   "source": [
    "# função para mapping\n",
    "def sum_five_kg(data: dict, map_function):\n",
    "    return list(map(map_function, data))\n",
    "\n",
    "pets_five_kg = sum_five_kg(data, process_pet)\n",
    "print(pets_five_kg)"
   ]
  },
  {
   "cell_type": "code",
   "execution_count": 1,
   "metadata": {},
   "outputs": [
    {
     "name": "stdout",
     "output_type": "stream",
     "text": [
      "Entering filter on [{'name': 'Buddy', 'age': 2, 'species': 'Dog', 'breed': 'Golden Retriever', 'weight': 25, 'fur_color': 'Golden'}, {'name': 'Whiskers', 'age': 1, 'species': 'Cat', 'breed': 'Siamese', 'weight': 8, 'fur_color': 'Cream'}, {'name': 'Rocky', 'age': 3, 'species': 'Dog', 'breed': 'German Shepherd', 'weight': 35, 'fur_color': 'Black/Tan'}, {'name': 'Fluffy', 'age': 4, 'species': 'Cat', 'breed': 'Persian', 'weight': 10, 'fur_color': 'White'}, {'name': 'Charlie', 'age': 1, 'species': 'Dog', 'breed': 'Beagle', 'weight': 18, 'fur_color': 'Tri-color'}, {'name': 'Mittens', 'age': 2, 'species': 'Cat', 'breed': 'Maine Coon', 'weight': 15, 'fur_color': 'Tabby'}, {'name': 'Max', 'age': 5, 'species': 'Dog', 'breed': 'Labrador Retriever', 'weight': 30, 'fur_color': 'Chocolate'}, {'name': 'Oreo', 'age': 1, 'species': 'Cat', 'breed': 'Domestic Shorthair', 'weight': 7, 'fur_color': 'Black/White'}, {'name': 'Coco', 'age': 3, 'species': 'Dog', 'breed': 'Poodle', 'weight': 15, 'fur_color': 'Apricot'}, {'name': 'Smokey', 'age': 2, 'species': 'Cat', 'breed': 'Ragdoll', 'weight': 12, 'fur_color': 'Blue Bicolor'}, {'name': 'Bailey', 'age': 4, 'species': 'Dog', 'breed': 'Boxer', 'weight': 22, 'fur_color': 'Fawn'}, {'name': 'Shadow', 'age': 1, 'species': 'Cat', 'breed': 'Siberian', 'weight': 14, 'fur_color': 'Gray'}, {'name': 'Daisy', 'age': 3, 'species': 'Dog', 'breed': 'Dachshund', 'weight': 12, 'fur_color': 'Red'}, {'name': 'Milo', 'age': 2, 'species': 'Cat', 'breed': 'Bengal', 'weight': 18, 'fur_color': 'Spotted Rosetted'}, {'name': 'Chloe', 'age': 5, 'species': 'Dog', 'breed': 'Shih Tzu', 'weight': 10, 'fur_color': 'White/Gold'}, {'name': 'Leo', 'age': 1, 'species': 'Cat', 'breed': 'Scottish Fold', 'weight': 9, 'fur_color': 'Blue Tabby'}, {'name': 'Riley', 'age': 3, 'species': 'Dog', 'breed': 'Husky', 'weight': 28, 'fur_color': 'Gray/White'}, {'name': 'Luna', 'age': 2, 'species': 'Cat', 'breed': 'Sphynx', 'weight': 6, 'fur_color': 'Pink'}, {'name': 'Teddy', 'age': 4, 'species': 'Dog', 'breed': 'Cavalier King Charles Spaniel', 'weight': 13, 'fur_color': 'Blenheim'}, {'name': 'Oliver', 'age': 1, 'species': 'Cat', 'breed': 'British Shorthair', 'weight': 11, 'fur_color': 'Blue'}, {'name': 'Felicia', 'age': 4, 'species': 'Cat', 'breed': 'Siamese', 'weight': 8, 'fur_color': 'White/Tan'}, {'name': 'Madalena', 'age': 5, 'species': 'Dog', 'breed': 'Pug', 'weight': 8.0, 'fur_color': 'Black'}]...\n",
      "[{'name': 'Madalena', 'age': 5, 'species': 'Dog', 'breed': 'Pug', 'weight': 8.0, 'fur_color': 'Black'}]\n"
     ]
    }
   ],
   "source": [
    "# importando libs necessária para o projeto\n",
    "import funcFile as ff\n",
    "import funcCRUD as fc\n",
    "from funcMapRedFilter import filter_data\n",
    "\n",
    "opc_pet = {\n",
    "    'NAME': \"Pet's name\",\n",
    "    'AGE': \"Pet's age\" ,\n",
    "    'SPC': \"Pet's species\",\n",
    "    'BREED': \"Pet's breed\",\n",
    "    'WEIGHT': \"Pet's weight\",\n",
    "    'FUR': \"Pet's fur color\",\n",
    "}\n",
    "\n",
    "opc = {\n",
    "    'I': 'Insert', #OK \n",
    "    'U': 'Update', #OK\n",
    "    'D': 'Delete', #OK\n",
    "    'F': 'Find', #OK\n",
    "    'SA': 'Show All', #OK\n",
    "    'FI': 'Filter',\n",
    "    'EX': 'Exit' #OK\n",
    "}\n",
    "\n",
    "opc_func = {\n",
    "    'I': fc.insert_new,\n",
    "    'D': fc.delete,\n",
    "    'U': fc.update,\n",
    "    'SA': fc.show_all,\n",
    "    'FI': fc.entering_func,\n",
    "    'F': lambda data: print(fc.formatting_all_pets(fc.find_pet(data, fc.input_name()))),\n",
    "    'EX': ff.func_exit\n",
    "}\n",
    "\n",
    "s = True\n",
    "while s == True:\n",
    "    data = ff.open_json_file()\n",
    "    option = fc.obter_opcoes(opc, 'Choose and action: ')\n",
    "    opc_func[option](data)\n",
    "    ff.save_json_file(data)\n",
    "    \n",
    "    if option == 'FI':\n",
    "        print(\"Here's your filtered data: \")\n",
    "        print(filter_data(data))\n",
    "    elif option == 'EX':\n",
    "        s = False"
   ]
  }
 ],
 "metadata": {
  "kernelspec": {
   "display_name": "Python 3",
   "language": "python",
   "name": "python3"
  },
  "language_info": {
   "codemirror_mode": {
    "name": "ipython",
    "version": 3
   },
   "file_extension": ".py",
   "mimetype": "text/x-python",
   "name": "python",
   "nbconvert_exporter": "python",
   "pygments_lexer": "ipython3",
   "version": "3.11.6"
  }
 },
 "nbformat": 4,
 "nbformat_minor": 2
}
